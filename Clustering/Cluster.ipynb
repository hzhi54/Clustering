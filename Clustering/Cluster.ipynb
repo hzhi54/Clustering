{
 "cells": [
  {
   "cell_type": "code",
   "execution_count": 19,
   "metadata": {},
   "outputs": [],
   "source": [
    "import numpy as np"
   ]
  },
  {
   "cell_type": "code",
   "execution_count": 20,
   "metadata": {},
   "outputs": [],
   "source": [
    "file = open('cho.txt', 'r')\n",
    "data = dict()\n",
    "count = 1\n",
    "for line in file:\n",
    "    genes = line.replace(\"\\n\",\"\").split(\"\\t\")\n",
    "    toInteger = []\n",
    "    for g in genes[2:]:\n",
    "        toInteger.append(np.float(g))\n",
    "    toInteger = np.asarray(toInteger)\n",
    "    data[count] = toInteger\n",
    "    count += 1 "
   ]
  },
  {
   "cell_type": "code",
   "execution_count": 184,
   "metadata": {},
   "outputs": [],
   "source": [
    "similarity_matrix = np.zeros((len(data),len(data)))\n",
    "sigma = 0.5\n",
    "for gene_1 in data.keys():\n",
    "    for gene_2 in data.keys():\n",
    "        dist = np.linalg.norm(data[gene_1] - data[gene_2])\n",
    "        Wij = np.exp(-(dist**2)/sigma**2)\n",
    "        similarity_matrix[gene_1-1][gene_2-1] = Wij"
   ]
  },
  {
   "cell_type": "code",
   "execution_count": 190,
   "metadata": {},
   "outputs": [
    {
     "data": {
      "text/plain": [
       "array([[1.00422691, 0.        , 0.        , ..., 0.        , 0.        ,\n",
       "        0.        ],\n",
       "       [0.        , 1.00673024, 0.        , ..., 0.        , 0.        ,\n",
       "        0.        ],\n",
       "       [0.        , 0.        , 1.03900267, ..., 0.        , 0.        ,\n",
       "        0.        ],\n",
       "       ...,\n",
       "       [0.        , 0.        , 0.        , ..., 1.        , 0.        ,\n",
       "        0.        ],\n",
       "       [0.        , 0.        , 0.        , ..., 0.        , 1.02443562,\n",
       "        0.        ],\n",
       "       [0.        , 0.        , 0.        , ..., 0.        , 0.        ,\n",
       "        1.00632207]])"
      ]
     },
     "execution_count": 190,
     "metadata": {},
     "output_type": "execute_result"
    }
   ],
   "source": [
    "degree_matrix = np.zeros((len(data),len(data)))\n",
    "for i in range(len(degree_matrix)):\n",
    "    deg = np.sum(similarity_matrix[i])\n",
    "    degree_matrix[i][i] = deg\n",
    "degree_matrix"
   ]
  },
  {
   "cell_type": "code",
   "execution_count": 186,
   "metadata": {},
   "outputs": [],
   "source": [
    "laplacian_matrix = (degree_matrix - similarity_matrix)\n",
    "eigen_val, eigen_vect = np.linalg.eig(laplacian_matrix)\n",
    "eigen_val = eigen_val.argsort()"
   ]
  },
  {
   "cell_type": "code",
   "execution_count": 187,
   "metadata": {},
   "outputs": [
    {
     "data": {
      "text/plain": [
       "37"
      ]
     },
     "execution_count": 187,
     "metadata": {},
     "output_type": "execute_result"
    }
   ],
   "source": [
    "d = 0\n",
    "delta = 0\n",
    "for i in range(1,len(eigen_val),):\n",
    "    gap = abs(eigen_val[i] - eigen_val[i-1])\n",
    "    if gap > delta:\n",
    "        d = i\n",
    "        delta = gap\n",
    "d"
   ]
  },
  {
   "cell_type": "code",
   "execution_count": 188,
   "metadata": {},
   "outputs": [
    {
     "data": {
      "text/plain": [
       "37"
      ]
     },
     "execution_count": 188,
     "metadata": {},
     "output_type": "execute_result"
    }
   ],
   "source": [
    "idx = eigen_val[:d]\n",
    "eigen_vect = eigen_vect[:,idx]"
   ]
  },
  {
   "cell_type": "code",
   "execution_count": 189,
   "metadata": {},
   "outputs": [
    {
     "name": "stdout",
     "output_type": "stream",
     "text": [
      "386\n"
     ]
    },
    {
     "data": {
      "text/plain": [
       "37"
      ]
     },
     "execution_count": 189,
     "metadata": {},
     "output_type": "execute_result"
    }
   ],
   "source": [
    "print(len(eigen_vect))\n",
    "len(eigen_vect[0])"
   ]
  },
  {
   "cell_type": "code",
   "execution_count": null,
   "metadata": {},
   "outputs": [],
   "source": []
  }
 ],
 "metadata": {
  "kernelspec": {
   "display_name": "Python 3",
   "language": "python",
   "name": "python3"
  },
  "language_info": {
   "codemirror_mode": {
    "name": "ipython",
    "version": 3
   },
   "file_extension": ".py",
   "mimetype": "text/x-python",
   "name": "python",
   "nbconvert_exporter": "python",
   "pygments_lexer": "ipython3",
   "version": "3.7.6"
  }
 },
 "nbformat": 4,
 "nbformat_minor": 4
}
